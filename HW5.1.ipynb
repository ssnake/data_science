{
 "cells": [
  {
   "cell_type": "code",
   "execution_count": 2,
   "metadata": {},
   "outputs": [],
   "source": [
    "import pandas as pd\n",
    "import numpy as np\n",
    "import pandas_profiling as pd_prof\n",
    "from sklearn.linear_model import LogisticRegression\n",
    "from sklearn.model_selection import StratifiedKFold\n",
    "from sklearn.model_selection import cross_val_score\n",
    "from sklearn.tree import DecisionTreeClassifier"
   ]
  },
  {
   "cell_type": "code",
   "execution_count": 3,
   "metadata": {},
   "outputs": [],
   "source": [
    "train = pd.read_csv(\"train_1.csv\", sep=\"\\t\", index_col=\"Unnamed: 0\")\n",
    "test = pd.read_csv(\"test_1.csv\", sep=\"\\t\", index_col=\"Unnamed: 0\")"
   ]
  },
  {
   "cell_type": "code",
   "execution_count": 4,
   "metadata": {},
   "outputs": [],
   "source": [
    "rejected_variables = ['140', '152', '160', '164', '9', '153']"
   ]
  },
  {
   "cell_type": "code",
   "execution_count": 5,
   "metadata": {},
   "outputs": [
    {
     "data": {
      "text/plain": [
       "(30500, 340)"
      ]
     },
     "execution_count": 5,
     "metadata": {},
     "output_type": "execute_result"
    }
   ],
   "source": [
    "train = train.drop(rejected_variables, axis=1, errors='ignore')\n",
    "train.shape"
   ]
  },
  {
   "cell_type": "code",
   "execution_count": 6,
   "metadata": {},
   "outputs": [
    {
     "data": {
      "text/plain": [
       "((30500, 339), (30500,))"
      ]
     },
     "execution_count": 6,
     "metadata": {},
     "output_type": "execute_result"
    }
   ],
   "source": [
    "x_train = train.iloc[:, 1:]\n",
    "y_train = train.iloc[:, 0]\n",
    "x_train.shape, y_train.shape"
   ]
  },
  {
   "cell_type": "code",
   "execution_count": 7,
   "metadata": {},
   "outputs": [
    {
     "data": {
      "text/plain": [
       "(1    29826\n",
       " 0      674\n",
       " Name: 1, dtype: int64, 0    25077\n",
       " 1     5423\n",
       " Name: 0, dtype: int64)"
      ]
     },
     "execution_count": 7,
     "metadata": {},
     "output_type": "execute_result"
    }
   ],
   "source": [
    "x_train['1'].value_counts(), y_train.value_counts()"
   ]
  },
  {
   "cell_type": "code",
   "execution_count": 8,
   "metadata": {},
   "outputs": [
    {
     "data": {
      "text/html": [
       "<div>\n",
       "<style scoped>\n",
       "    .dataframe tbody tr th:only-of-type {\n",
       "        vertical-align: middle;\n",
       "    }\n",
       "\n",
       "    .dataframe tbody tr th {\n",
       "        vertical-align: top;\n",
       "    }\n",
       "\n",
       "    .dataframe thead th {\n",
       "        text-align: right;\n",
       "    }\n",
       "</style>\n",
       "<table border=\"1\" class=\"dataframe\">\n",
       "  <thead>\n",
       "    <tr style=\"text-align: right;\">\n",
       "      <th></th>\n",
       "      <th>1</th>\n",
       "      <th>2</th>\n",
       "      <th>3</th>\n",
       "      <th>4</th>\n",
       "      <th>5</th>\n",
       "      <th>6</th>\n",
       "      <th>7</th>\n",
       "      <th>8</th>\n",
       "      <th>10</th>\n",
       "      <th>11</th>\n",
       "      <th>...</th>\n",
       "      <th>336</th>\n",
       "      <th>337</th>\n",
       "      <th>338</th>\n",
       "      <th>339</th>\n",
       "      <th>340</th>\n",
       "      <th>341</th>\n",
       "      <th>342</th>\n",
       "      <th>343</th>\n",
       "      <th>344</th>\n",
       "      <th>345</th>\n",
       "    </tr>\n",
       "  </thead>\n",
       "  <tbody>\n",
       "    <tr>\n",
       "      <th>0</th>\n",
       "      <td>1</td>\n",
       "      <td>0</td>\n",
       "      <td>0</td>\n",
       "      <td>1</td>\n",
       "      <td>0</td>\n",
       "      <td>0</td>\n",
       "      <td>0.136364</td>\n",
       "      <td>0</td>\n",
       "      <td>1</td>\n",
       "      <td>1</td>\n",
       "      <td>...</td>\n",
       "      <td>0.192984</td>\n",
       "      <td>0</td>\n",
       "      <td>1</td>\n",
       "      <td>0</td>\n",
       "      <td>0</td>\n",
       "      <td>0.222222</td>\n",
       "      <td>1</td>\n",
       "      <td>1</td>\n",
       "      <td>1</td>\n",
       "      <td>1</td>\n",
       "    </tr>\n",
       "    <tr>\n",
       "      <th>1</th>\n",
       "      <td>1</td>\n",
       "      <td>0</td>\n",
       "      <td>0</td>\n",
       "      <td>1</td>\n",
       "      <td>0</td>\n",
       "      <td>0</td>\n",
       "      <td>0.181818</td>\n",
       "      <td>0</td>\n",
       "      <td>1</td>\n",
       "      <td>1</td>\n",
       "      <td>...</td>\n",
       "      <td>0.195690</td>\n",
       "      <td>0</td>\n",
       "      <td>1</td>\n",
       "      <td>0</td>\n",
       "      <td>0</td>\n",
       "      <td>0.000000</td>\n",
       "      <td>1</td>\n",
       "      <td>1</td>\n",
       "      <td>1</td>\n",
       "      <td>0</td>\n",
       "    </tr>\n",
       "    <tr>\n",
       "      <th>2</th>\n",
       "      <td>1</td>\n",
       "      <td>0</td>\n",
       "      <td>0</td>\n",
       "      <td>0</td>\n",
       "      <td>0</td>\n",
       "      <td>0</td>\n",
       "      <td>0.090909</td>\n",
       "      <td>0</td>\n",
       "      <td>1</td>\n",
       "      <td>1</td>\n",
       "      <td>...</td>\n",
       "      <td>0.192984</td>\n",
       "      <td>0</td>\n",
       "      <td>1</td>\n",
       "      <td>0</td>\n",
       "      <td>0</td>\n",
       "      <td>0.222222</td>\n",
       "      <td>1</td>\n",
       "      <td>1</td>\n",
       "      <td>1</td>\n",
       "      <td>0</td>\n",
       "    </tr>\n",
       "    <tr>\n",
       "      <th>3</th>\n",
       "      <td>1</td>\n",
       "      <td>0</td>\n",
       "      <td>0</td>\n",
       "      <td>1</td>\n",
       "      <td>0</td>\n",
       "      <td>0</td>\n",
       "      <td>0.090909</td>\n",
       "      <td>0</td>\n",
       "      <td>1</td>\n",
       "      <td>1</td>\n",
       "      <td>...</td>\n",
       "      <td>0.195690</td>\n",
       "      <td>0</td>\n",
       "      <td>1</td>\n",
       "      <td>0</td>\n",
       "      <td>0</td>\n",
       "      <td>0.000000</td>\n",
       "      <td>1</td>\n",
       "      <td>1</td>\n",
       "      <td>1</td>\n",
       "      <td>0</td>\n",
       "    </tr>\n",
       "    <tr>\n",
       "      <th>4</th>\n",
       "      <td>1</td>\n",
       "      <td>0</td>\n",
       "      <td>0</td>\n",
       "      <td>1</td>\n",
       "      <td>0</td>\n",
       "      <td>0</td>\n",
       "      <td>0.090909</td>\n",
       "      <td>0</td>\n",
       "      <td>1</td>\n",
       "      <td>1</td>\n",
       "      <td>...</td>\n",
       "      <td>0.289893</td>\n",
       "      <td>0</td>\n",
       "      <td>0</td>\n",
       "      <td>1</td>\n",
       "      <td>0</td>\n",
       "      <td>0.000000</td>\n",
       "      <td>1</td>\n",
       "      <td>1</td>\n",
       "      <td>1</td>\n",
       "      <td>1</td>\n",
       "    </tr>\n",
       "  </tbody>\n",
       "</table>\n",
       "<p>5 rows × 339 columns</p>\n",
       "</div>"
      ],
      "text/plain": [
       "   1  2  3  4  5  6         7  8  10  11 ...        336  337  338  339  340  \\\n",
       "0  1  0  0  1  0  0  0.136364  0   1   1 ...   0.192984    0    1    0    0   \n",
       "1  1  0  0  1  0  0  0.181818  0   1   1 ...   0.195690    0    1    0    0   \n",
       "2  1  0  0  0  0  0  0.090909  0   1   1 ...   0.192984    0    1    0    0   \n",
       "3  1  0  0  1  0  0  0.090909  0   1   1 ...   0.195690    0    1    0    0   \n",
       "4  1  0  0  1  0  0  0.090909  0   1   1 ...   0.289893    0    0    1    0   \n",
       "\n",
       "        341  342  343  344  345  \n",
       "0  0.222222    1    1    1    1  \n",
       "1  0.000000    1    1    1    0  \n",
       "2  0.222222    1    1    1    0  \n",
       "3  0.000000    1    1    1    0  \n",
       "4  0.000000    1    1    1    1  \n",
       "\n",
       "[5 rows x 339 columns]"
      ]
     },
     "execution_count": 8,
     "metadata": {},
     "output_type": "execute_result"
    }
   ],
   "source": [
    "x_test = test.drop(rejected_variables, axis=1, errors='ignore').drop('0', axis=1)\n",
    "x_test.head()"
   ]
  },
  {
   "cell_type": "code",
   "execution_count": 43,
   "metadata": {},
   "outputs": [],
   "source": [
    "def lgb_score(res):\n",
    "    return max(res['auc-mean']), len(res['auc-mean']) "
   ]
  },
  {
   "cell_type": "code",
   "execution_count": 9,
   "metadata": {},
   "outputs": [],
   "source": [
    "import lightgbm as lgb"
   ]
  },
  {
   "cell_type": "code",
   "execution_count": 11,
   "metadata": {},
   "outputs": [],
   "source": [
    "n_rounds = 10000\n",
    "kf = StratifiedKFold(n_splits=7, random_state=42)\n",
    "lgb_train = lgb.Dataset(x_train, label=y_train, free_raw_data=False)"
   ]
  },
  {
   "cell_type": "code",
   "execution_count": 52,
   "metadata": {},
   "outputs": [
    {
     "name": "stderr",
     "output_type": "stream",
     "text": [
      "/usr/local/lib/python3.5/dist-packages/lightgbm/engine.py:390: UserWarning: Found `n_estimators` in params. Will use it instead of argument\n",
      "  warnings.warn(\"Found `{}` in params. Will use it instead of argument\".format(alias))\n"
     ]
    },
    {
     "name": "stdout",
     "output_type": "stream",
     "text": [
      "prev score: <function lgb_score at 0x7f99e32308c8>\n",
      "0.7474241865527684 7156\n"
     ]
    }
   ],
   "source": [
    "# test 1\n",
    "lgb_param = {\n",
    "    'objective': 'binary',\n",
    "    'num_threads': 4,\n",
    "    \"metric\": 'auc',\n",
    "    'learning_rate': 0.001,\n",
    "    'n_estimators': 10000,\n",
    "    'num_leaves': 50,\n",
    "    \n",
    "    #regularization\n",
    "    'colsample_bytree': 0.6,\n",
    "    'subsample': 0.8,\n",
    "    'subsample_freq': 1,\n",
    "    'min_data_in_leaf': 50,\n",
    "    \n",
    "}\n",
    "\n",
    "result = lgb.cv(lgb_param, lgb_train, n_rounds, folds=kf.split(x_train, y_train), early_stopping_rounds=170, verbose_eval=0,  )\n",
    "\n",
    "if 'lgb_score' in vars():\n",
    "    print(\"prev score: \"+str(lgb_score))\n",
    "lgb_score = max(result['auc-mean']) \n",
    "print(lgb_score, len(result['auc-mean']))\n"
   ]
  },
  {
   "cell_type": "code",
   "execution_count": 38,
   "metadata": {},
   "outputs": [],
   "source": [
    "model = lgb.train(lgb_param, lgb_train, num_boost_round=8157)"
   ]
  },
  {
   "cell_type": "code",
   "execution_count": 39,
   "metadata": {},
   "outputs": [
    {
     "name": "stdout",
     "output_type": "stream",
     "text": [
      "[0.13996113 0.54306269 0.25761918 ... 0.08305767 0.10558701 0.10239873]\n"
     ]
    }
   ],
   "source": [
    "pred = model.predict(x_test)\n",
    "print((pred))"
   ]
  },
  {
   "cell_type": "code",
   "execution_count": 42,
   "metadata": {},
   "outputs": [
    {
     "data": {
      "text/plain": [
       "(0.9010981710170036, 0.76244713)"
      ]
     },
     "execution_count": 42,
     "metadata": {},
     "output_type": "execute_result"
    }
   ],
   "source": [
    "from sklearn.metrics import roc_auc_score\n",
    "roc_auc_score(y_train, model.predict(x_train)), 0.76244713\n"
   ]
  },
  {
   "cell_type": "code",
   "execution_count": 41,
   "metadata": {},
   "outputs": [],
   "source": [
    "pred_df= pd.DataFrame({'_ID_': x_test.index, '_VAL_': pred})\n",
    "pred_df.to_csv('submit_1.csv', index=False)"
   ]
  },
  {
   "cell_type": "code",
   "execution_count": 48,
   "metadata": {},
   "outputs": [],
   "source": [
    "# test 2\n",
    "lgb_param2 = {\n",
    "    'objective': 'binary',\n",
    "    'max_bin': 63,\n",
    "    \"metric\": 'auc',\n",
    "    'learning_rate': 0.01,\n",
    "    'num_leaves': 50,\n",
    "    \n",
    "    #regularization\n",
    "    'colsample_bytree': 0.6,\n",
    "    'subsample': 0.8,\n",
    "    'subsample_freq': 1,\n",
    "    'min_data_in_leaf': 50,\n",
    "    \n",
    "}\n",
    "\n"
   ]
  },
  {
   "cell_type": "code",
   "execution_count": 49,
   "metadata": {
    "scrolled": false
   },
   "outputs": [
    {
     "name": "stdout",
     "output_type": "stream",
     "text": [
      "prev score: 0.7462675649862666\n",
      "0.7457195553557747 542\n",
      "CPU times: user 2min 45s, sys: 676 ms, total: 2min 45s\n",
      "Wall time: 41.5 s\n"
     ]
    }
   ],
   "source": [
    "%%time\n",
    "#cpu\n",
    "\n",
    "\n",
    "result = lgb.cv(lgb_param2, lgb_train, n_rounds, folds=kf.split(x_train, y_train), early_stopping_rounds=10, verbose_eval=0, )\n",
    "\n",
    "if 'lgb_score2' in vars():\n",
    "    print(\"prev score: \"+str(lgb_score2))\n",
    "lgb_score2 = max(result['auc-mean']) \n",
    "print(lgb_score2, len(result['auc-mean']))"
   ]
  },
  {
   "cell_type": "code",
   "execution_count": null,
   "metadata": {},
   "outputs": [],
   "source": []
  },
  {
   "cell_type": "code",
   "execution_count": null,
   "metadata": {},
   "outputs": [],
   "source": [
    "#stacking\n",
    "stack_param1 = {\n",
    "    'objective': 'binary',\n",
    "    'num_threads': 4,\n",
    "    \"metric\": 'auc',\n",
    "    'learning_rate': 0.001,\n",
    "    'n_estimators': 10000,\n",
    "    'num_leaves': 50,\n",
    "    \n",
    "    #regularization\n",
    "    'colsample_bytree': 0.6,\n",
    "    'subsample': 0.8,\n",
    "    'subsample_freq': 1,\n",
    "    'min_data_in_leaf': 50,\n",
    "    \n",
    "}\n",
    "stack_num_round1 = 7438\n",
    "\n"
   ]
  },
  {
   "cell_type": "code",
   "execution_count": 37,
   "metadata": {},
   "outputs": [],
   "source": [
    "def build_stack(xtrain, ytrain, xtest, param1, num_round1):\n",
    "    i = list(kf.split(xtrain, ytrain))\n",
    "    \n",
    "    new_train_feature = np.zeros(xtrain.shape[0])\n",
    "    new_test_feature = np.zeros(xtest.shape[0])\n",
    "    \n",
    "    lgb_ds = lgb.Dataset(xtrain, label=ytrain, free_raw_data=False)\n",
    "\n",
    "    for (i1, (sub_train, sub_test)) in enumerate(i):\n",
    "        model = lgb.train(param1, lgb_ds.subset(sub_train), num_boost_round=num_round1)\n",
    "        pred = model.predict(xtrain.loc[sub_test])\n",
    "        new_train_feature[sub_test] =  pred\n",
    "    \n",
    "    ## adding new feature to test\n",
    "    model2 = lgb.train(param1, lgb_ds, num_boost_round=num_round1)\n",
    "    pred2 = model2.predict(xtest)\n",
    "    new_test_feature[:]= pred2\n",
    "    return (pd.concat([xtrain, pd.DataFrame(new_train_feature)], axis=1), pd.concat([xtest, pd.DataFrame(new_test_feature)], axis=1))\n"
   ]
  },
  {
   "cell_type": "code",
   "execution_count": 53,
   "metadata": {},
   "outputs": [
    {
     "name": "stdout",
     "output_type": "stream",
     "text": [
      "CPU times: user 40min 52s, sys: 11.5 s, total: 41min 4s\n",
      "Wall time: 10min 18s\n"
     ]
    }
   ],
   "source": [
    "%%time\n",
    "new_x_train, new_x_test = build_stack(x_train, y_train, x_test, lgb_param, 7156)"
   ]
  },
  {
   "cell_type": "code",
   "execution_count": 106,
   "metadata": {},
   "outputs": [],
   "source": [
    "param = {\n",
    "    'objective': 'binary',\n",
    "    'num_threads': 4,\n",
    "    \"metric\": 'auc',\n",
    "    'learning_rate': 0.001,\n",
    "\n",
    "    'num_leaves': 40,\n",
    "    'max_bin' : 120,\n",
    "    #regularization\n",
    "    'colsample_bytree': 0.8,\n",
    "    'subsample': 0.8,\n",
    "    'subsample_freq': 1,\n",
    "    'min_data_in_leaf': 40,\n",
    "    \n",
    "}\n",
    "result = lgb.cv(param, lgb.Dataset(new_x_train, y_train, free_raw_data=False), n_rounds, folds=kf.split(new_x_train, y_train), early_stopping_rounds=300, verbose_eval=-2, )\n"
   ]
  },
  {
   "cell_type": "code",
   "execution_count": 107,
   "metadata": {},
   "outputs": [
    {
     "data": {
      "text/plain": [
       "(0.7443102843442028, 70)"
      ]
     },
     "execution_count": 107,
     "metadata": {},
     "output_type": "execute_result"
    }
   ],
   "source": [
    "max(result['auc-mean']), len(result['auc-mean']) "
   ]
  },
  {
   "cell_type": "code",
   "execution_count": 65,
   "metadata": {},
   "outputs": [],
   "source": [
    "param = {\n",
    "    'objective': 'binary',\n",
    "    'num_threads': 4,\n",
    "    \"metric\": 'auc',\n",
    "    'learning_rate': 0.001,\n",
    "    \n",
    "    'num_leaves': 50,\n",
    "    \n",
    "    #regularization\n",
    "    'colsample_bytree': [0.6, 0.8],\n",
    "    'subsample': 0.8,\n",
    "    'subsample_freq': 1,\n",
    "    'min_data_in_leaf': 50,\n",
    "    \n",
    "}\n",
    "\n",
    "def lightgbm_search(params, ds):\n",
    "    res = []\n",
    "    for k in params:\n",
    "        for v in params:\n",
    "            print(\"{}: {}\".format(k, v))"
   ]
  },
  {
   "cell_type": "code",
   "execution_count": null,
   "metadata": {},
   "outputs": [],
   "source": []
  }
 ],
 "metadata": {
  "kernelspec": {
   "display_name": "Python 3",
   "language": "python",
   "name": "python3"
  },
  "language_info": {
   "codemirror_mode": {
    "name": "ipython",
    "version": 3
   },
   "file_extension": ".py",
   "mimetype": "text/x-python",
   "name": "python",
   "nbconvert_exporter": "python",
   "pygments_lexer": "ipython3",
   "version": "3.5.2"
  }
 },
 "nbformat": 4,
 "nbformat_minor": 2
}
